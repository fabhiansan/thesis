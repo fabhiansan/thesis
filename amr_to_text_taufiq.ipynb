{
 "cells": [
  {
   "cell_type": "code",
   "execution_count": 1,
   "metadata": {},
   "outputs": [],
   "source": [
    "import os\n",
    "import sys\n",
    "os.environ[\"CUDA_VISIBLE_DEVICES\"] = \"2\""
   ]
  },
  {
   "cell_type": "code",
   "execution_count": 2,
   "metadata": {},
   "outputs": [],
   "source": [
    "from transformers import AutoModelForSeq2SeqLM, T5TokenizerFast\n",
    "import torch\n",
    "\n",
    "class AMRToTextSan:\n",
    "    def __init__(self, model_path):\n",
    "        # self.device = \"cuda\" if torch.cuda.is_available() else \"cpu\"\n",
    "        self.device = \"cpu\"\n",
    "        \n",
    "        # Initialize tokenizer and model\n",
    "        self.tokenizer = T5TokenizerFast.from_pretrained(\n",
    "            os.path.join(model_path, 'tokenizer')\n",
    "        )\n",
    "        self.model = AutoModelForSeq2SeqLM.from_pretrained(\n",
    "            os.path.join(model_path, 'model')\n",
    "        ).to(self.device)\n",
    "        \n",
    "        # Set generation parameters\n",
    "        self.max_seq_len_sent = 512\n",
    "        self.num_beams = 5\n",
    "\n",
    "    def __call__(self, amr_string: str) -> str:\n",
    "        # Prepare input\n",
    "        inputs = self.tokenizer(\n",
    "            amr_string,\n",
    "            max_length=self.max_seq_len_sent,\n",
    "            padding=False,\n",
    "            truncation=True,\n",
    "            return_tensors=\"pt\"\n",
    "        ).to(self.device)\n",
    "        \n",
    "        # Generate\n",
    "        outputs = self.model.generate(\n",
    "            input_ids=inputs[\"input_ids\"],\n",
    "            attention_mask=inputs[\"attention_mask\"],\n",
    "            num_beams=self.num_beams,\n",
    "            max_length=self.max_seq_len_sent,\n",
    "            early_stopping=True,\n",
    "            pad_token_id=self.tokenizer.pad_token_id,\n",
    "            eos_token_id=self.tokenizer.eos_token_id\n",
    "        )\n",
    "        \n",
    "        # Decode output\n",
    "        generated_text = self.tokenizer.decode(outputs[0], skip_special_tokens=True)\n",
    "        return generated_text\n",
    "\n",
    "# # Contoh penggunaan\n",
    "# if __name__ == \"__main__\":\n",
    "#     text_to_amr = TextToAMRSan()\n",
    "#     amr_to_text = AMRToTextSan(\"path/to/saved/indot5/model\")\n",
    "    \n",
    "#     sent1 = \"Presiden Jokowi akan memberikan pidato penting di Istana Negara besok pagi.\"\n",
    "    \n",
    "#     # Text -> AMR -> Text\n",
    "#     amr_graph = text_to_amr(sent1)\n",
    "#     amr_string = penman.encode(amr_graph)\n",
    "#     generated_text = amr_to_text(amr_string)\n",
    "    \n",
    "#     print(\"Original:\", sent1)\n",
    "#     print(\"AMR:\", amr_string)\n",
    "#     print(\"Generated:\", generated_text)"
   ]
  },
  {
   "cell_type": "code",
   "execution_count": 3,
   "metadata": {},
   "outputs": [
    {
     "name": "stderr",
     "output_type": "stream",
     "text": [
      "You are using the default legacy behaviour of the <class 'transformers.models.t5.tokenization_t5.T5Tokenizer'>. This is expected, and simply means that the `legacy` (previous) behavior will be used so nothing changes for you. If you want to use the new behaviour, set `legacy=False`. This should only be set if you understand what it means, and thoroughly read the reason why this was added as explained in https://github.com/huggingface/transformers/pull/24565\n",
      "2025-03-05 16:01:57.649648: I tensorflow/core/util/port.cc:110] oneDNN custom operations are on. You may see slightly different numerical results due to floating-point round-off errors from different computation orders. To turn them off, set the environment variable `TF_ENABLE_ONEDNN_OPTS=0`.\n",
      "2025-03-05 16:01:57.652616: I tensorflow/tsl/cuda/cudart_stub.cc:28] Could not find cuda drivers on your machine, GPU will not be used.\n",
      "2025-03-05 16:01:57.726230: I tensorflow/core/platform/cpu_feature_guard.cc:182] This TensorFlow binary is optimized to use available CPU instructions in performance-critical operations.\n",
      "To enable the following instructions: AVX2 AVX512F AVX512_VNNI FMA, in other operations, rebuild TensorFlow with the appropriate compiler flags.\n",
      "2025-03-05 16:01:58.645793: W tensorflow/compiler/tf2tensorrt/utils/py_utils.cc:38] TF-TRT Warning: Could not find TensorRT\n"
     ]
    }
   ],
   "source": [
    "amr_to_text = AMRToTextSan(\"model/amr2text/best_model\")"
   ]
  },
  {
   "cell_type": "code",
   "execution_count": null,
   "metadata": {},
   "outputs": [],
   "source": []
  }
 ],
 "metadata": {
  "kernelspec": {
   "display_name": "Python 3 (ipykernel)",
   "language": "python",
   "name": "python3"
  },
  "language_info": {
   "codemirror_mode": {
    "name": "ipython",
    "version": 3
   },
   "file_extension": ".py",
   "mimetype": "text/x-python",
   "name": "python",
   "nbconvert_exporter": "python",
   "pygments_lexer": "ipython3",
   "version": "3.10.14"
  }
 },
 "nbformat": 4,
 "nbformat_minor": 2
}
