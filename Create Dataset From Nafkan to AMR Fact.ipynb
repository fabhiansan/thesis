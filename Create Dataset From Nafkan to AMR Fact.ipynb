{
 "cells": [
  {
   "cell_type": "code",
   "execution_count": 1,
   "id": "c618927c-da4d-44a2-8ac4-33bf2d9b3a33",
   "metadata": {},
   "outputs": [],
   "source": [
    "import os"
   ]
  },
  {
   "cell_type": "code",
   "execution_count": 6,
   "id": "8bc4a51e-74f7-4158-9f30-a6d8466628a9",
   "metadata": {},
   "outputs": [
    {
     "data": {
      "text/plain": [
       "['pointer_to_penman.ipynb',\n",
       " 'val-gold.amr',\n",
       " '.ipynb_checkpoints',\n",
       " 'amrbart-id-concat-pretrain',\n",
       " 'amrbart-id-concat-val',\n",
       " 'amrbart-id-concat-train-amr2',\n",
       " 'amrbart-id-pretrain',\n",
       " 'amrbart-id-train-amr3-augfil',\n",
       " 'amrbart-id-concat-train-amr3',\n",
       " 'amrbart-id-concat-val-original',\n",
       " 'amrbart-id-train-amr2',\n",
       " 'amrbart-id-train-amr3-aug',\n",
       " 'test-gold.amr',\n",
       " 'amrbart-id-train-amr3',\n",
       " 'amrbart-id-concat-train-amr3-aug',\n",
       " 'amrbart-id-val',\n",
       " 'amrbart-id-concat-train-amr3-augfil']"
      ]
     },
     "execution_count": 6,
     "metadata": {},
     "output_type": "execute_result"
    }
   ],
   "source": [
    "os.listdir(\"../dataset/ds/\")"
   ]
  },
  {
   "cell_type": "code",
   "execution_count": 7,
   "id": "8004443f-6d63-4d4d-b674-152e9ce92903",
   "metadata": {},
   "outputs": [],
   "source": [
    "import penman\n",
    "from utils.pointer_to_penman import convert_amr"
   ]
  },
  {
   "cell_type": "markdown",
   "id": "b48707d4-f3a5-421d-aa5c-b9fd2df159f9",
   "metadata": {},
   "source": [
    "# dataset nafkhan"
   ]
  },
  {
   "cell_type": "code",
   "execution_count": 7,
   "id": "c2ba6290-af99-45cb-b911-e9e92df4781a",
   "metadata": {},
   "outputs": [],
   "source": [
    "path_train_concat_amr2 = \"../dataset/ds/amrbart-id-concat-train-amr2/train.jsonl\"\n",
    "path_train_concat_amr3 = \"../dataset/ds/amrbart-id-concat-train-amr3/train.jsonl\""
   ]
  },
  {
   "cell_type": "code",
   "execution_count": 11,
   "id": "a2369933-7fc7-4b64-beae-e1e64e7fae86",
   "metadata": {},
   "outputs": [
    {
     "data": {
      "text/html": [
       "<div>\n",
       "<style scoped>\n",
       "    .dataframe tbody tr th:only-of-type {\n",
       "        vertical-align: middle;\n",
       "    }\n",
       "\n",
       "    .dataframe tbody tr th {\n",
       "        vertical-align: top;\n",
       "    }\n",
       "\n",
       "    .dataframe thead th {\n",
       "        text-align: right;\n",
       "    }\n",
       "</style>\n",
       "<table border=\"1\" class=\"dataframe\">\n",
       "  <thead>\n",
       "    <tr style=\"text-align: right;\">\n",
       "      <th></th>\n",
       "      <th>amr</th>\n",
       "      <th>en</th>\n",
       "      <th>id</th>\n",
       "    </tr>\n",
       "  </thead>\n",
       "  <tbody>\n",
       "    <tr>\n",
       "      <th>0</th>\n",
       "      <td>( &lt;pointer:0&gt; start-01 :ARG0 ( &lt;pointer:1&gt; pic...</td>\n",
       "      <td>In the summer of 2005 , a picture that people ...</td>\n",
       "      <td>Pada musim panas 2005, sebuah gambar bahwa ora...</td>\n",
       "    </tr>\n",
       "    <tr>\n",
       "      <th>1</th>\n",
       "      <td>( &lt;pointer:0&gt; cause-01 :ARG0 ( &lt;pointer:1&gt; ima...</td>\n",
       "      <td>With their unique charm , these well - known c...</td>\n",
       "      <td>Dengan pesona unik mereka, gambar kartun terke...</td>\n",
       "    </tr>\n",
       "    <tr>\n",
       "      <th>2</th>\n",
       "      <td>( &lt;pointer:0&gt; open-01 :ARG1 ( &lt;pointer:1&gt; amus...</td>\n",
       "      <td>The world 's fifth Disney park will soon open ...</td>\n",
       "      <td>Taman Disney kelima di dunia akan segera terbu...</td>\n",
       "    </tr>\n",
       "    <tr>\n",
       "      <th>3</th>\n",
       "      <td>( &lt;pointer:0&gt; important-01 :ARG1 ( &lt;pointer:1&gt;...</td>\n",
       "      <td>The most important thing about Disney is that ...</td>\n",
       "      <td>Hal yang paling penting tentang Disney adalah ...</td>\n",
       "    </tr>\n",
       "    <tr>\n",
       "      <th>4</th>\n",
       "      <td>( &lt;pointer:0&gt; have-concession-91 :ARG1 ( &lt;poin...</td>\n",
       "      <td>Well , for several years , although it was sti...</td>\n",
       "      <td>Nah, selama beberapa tahun, meskipun masih dal...</td>\n",
       "    </tr>\n",
       "  </tbody>\n",
       "</table>\n",
       "</div>"
      ],
      "text/plain": [
       "                                                 amr  \\\n",
       "0  ( <pointer:0> start-01 :ARG0 ( <pointer:1> pic...   \n",
       "1  ( <pointer:0> cause-01 :ARG0 ( <pointer:1> ima...   \n",
       "2  ( <pointer:0> open-01 :ARG1 ( <pointer:1> amus...   \n",
       "3  ( <pointer:0> important-01 :ARG1 ( <pointer:1>...   \n",
       "4  ( <pointer:0> have-concession-91 :ARG1 ( <poin...   \n",
       "\n",
       "                                                  en  \\\n",
       "0  In the summer of 2005 , a picture that people ...   \n",
       "1  With their unique charm , these well - known c...   \n",
       "2  The world 's fifth Disney park will soon open ...   \n",
       "3  The most important thing about Disney is that ...   \n",
       "4  Well , for several years , although it was sti...   \n",
       "\n",
       "                                                  id  \n",
       "0  Pada musim panas 2005, sebuah gambar bahwa ora...  \n",
       "1  Dengan pesona unik mereka, gambar kartun terke...  \n",
       "2  Taman Disney kelima di dunia akan segera terbu...  \n",
       "3  Hal yang paling penting tentang Disney adalah ...  \n",
       "4  Nah, selama beberapa tahun, meskipun masih dal...  "
      ]
     },
     "execution_count": 11,
     "metadata": {},
     "output_type": "execute_result"
    }
   ],
   "source": [
    "import pandas as pd \n",
    "\n",
    "df_train_concat_amr2 = pd.read_json(path_train_concat_amr2, lines=True)\n",
    "df_train_concat_amr2.head()"
   ]
  },
  {
   "cell_type": "code",
   "execution_count": 14,
   "id": "460cea99-4209-4459-b030-90330b0ba938",
   "metadata": {},
   "outputs": [],
   "source": [
    "b = convert_amr(df_train_concat_amr2.iloc[0]['amr'])"
   ]
  },
  {
   "cell_type": "code",
   "execution_count": 19,
   "id": "107e3f9b-e49d-47ff-93d9-6465041ce1f4",
   "metadata": {},
   "outputs": [
    {
     "name": "stdout",
     "output_type": "stream",
     "text": [
      "(s1 / start-01\n",
      "    :ARG0 (p1 / picture\n",
      "              :ARG1-of (l1 / look-forward-03\n",
      "                           :ARG0 (p2 / person)\n",
      "                           :ARG1-of (l2 / long-03)))\n",
      "    :ARG1 (e1 / emerge-01\n",
      "              :ARG1-of (f1 / frequent-02)\n",
      "              :location (m1 / media\n",
      "                            :mod (v1 / various)\n",
      "                            :ARG1-of (m2 / major-02)\n",
      "                            :location (c1 / city\n",
      "                                          :wiki \"Hong_Kong\"\n",
      "                                          :name (n1 / name\n",
      "                                                    :op1 \"Hong\"\n",
      "                                                    :op2 \"Kong\"))))\n",
      "    :time (d1 / date-entity\n",
      "              :year 2005\n",
      "              :season (s2 / summer)))\n"
     ]
    }
   ],
   "source": [
    "print(b)"
   ]
  },
  {
   "cell_type": "code",
   "execution_count": 20,
   "id": "affb7964-0ecc-4a4d-8996-f2fc6ac92434",
   "metadata": {},
   "outputs": [
    {
     "data": {
      "text/plain": [
       "'In the summer of 2005 , a picture that people have long been looking forward to started emerging with frequency in various major Hong Kong media .'"
      ]
     },
     "execution_count": 20,
     "metadata": {},
     "output_type": "execute_result"
    }
   ],
   "source": [
    "df_train_concat_amr2.iloc[0]['en']"
   ]
  },
  {
   "cell_type": "code",
   "execution_count": 21,
   "id": "4f988ef5-93e7-431f-a161-f2929306bc43",
   "metadata": {},
   "outputs": [
    {
     "data": {
      "text/plain": [
       "'Pada musim panas 2005, sebuah gambar bahwa orang telah lama berharap untuk mulai muncul dengan frekuensi di berbagai media Hong Kong utama.'"
      ]
     },
     "execution_count": 21,
     "metadata": {},
     "output_type": "execute_result"
    }
   ],
   "source": [
    "df_train_concat_amr2.iloc[0]['id']"
   ]
  },
  {
   "cell_type": "markdown",
   "id": "362bd21a-e020-4280-9eb0-5958925aba1a",
   "metadata": {},
   "source": [
    "# dataset indohoax"
   ]
  },
  {
   "cell_type": "code",
   "execution_count": 1,
   "id": "3fa52b6a-dedf-43ed-b8b8-bd1f6e429e41",
   "metadata": {},
   "outputs": [
    {
     "name": "stderr",
     "output_type": "stream",
     "text": [
      "2025-02-25 13:47:46.986792: I tensorflow/core/util/port.cc:110] oneDNN custom operations are on. You may see slightly different numerical results due to floating-point round-off errors from different computation orders. To turn them off, set the environment variable `TF_ENABLE_ONEDNN_OPTS=0`.\n",
      "2025-02-25 13:47:46.989669: I tensorflow/tsl/cuda/cudart_stub.cc:28] Could not find cuda drivers on your machine, GPU will not be used.\n",
      "2025-02-25 13:47:47.044767: I tensorflow/core/platform/cpu_feature_guard.cc:182] This TensorFlow binary is optimized to use available CPU instructions in performance-critical operations.\n",
      "To enable the following instructions: AVX2 AVX512F AVX512_VNNI FMA, in other operations, rebuild TensorFlow with the appropriate compiler flags.\n",
      "2025-02-25 13:47:47.831481: W tensorflow/compiler/tf2tensorrt/utils/py_utils.cc:38] TF-TRT Warning: Could not find TensorRT\n"
     ]
    }
   ],
   "source": [
    "from text_to_amr import TextToAMRSan"
   ]
  },
  {
   "cell_type": "code",
   "execution_count": 2,
   "id": "c0ccd072-f7e4-4940-bbea-ba54f1911b38",
   "metadata": {},
   "outputs": [],
   "source": [
    "text_to_amr = TextToAMRSan()"
   ]
  },
  {
   "cell_type": "code",
   "execution_count": 4,
   "id": "dd07e73d-96ff-4efa-b348-ed30bdf03ea9",
   "metadata": {},
   "outputs": [],
   "source": [
    "a = text_to_amr(\"Pada musim panas 2005, sebuah gambar bahwa orang telah lama berharap untuk mulai muncul dengan frekuensi di berbagai media Hong Kong utama.\")\n"
   ]
  },
  {
   "cell_type": "code",
   "execution_count": 8,
   "id": "ff25061a-6051-493b-9937-a408bff0cf8f",
   "metadata": {},
   "outputs": [
    {
     "name": "stdout",
     "output_type": "stream",
     "text": [
      "# ::id 0\n",
      "# ::annotator TextToAMRSan\n",
      "# ::snt Pada musim panas 2005, sebuah gambar bahwa orang telah lama berharap untuk mulai muncul dengan frekuensi di berbagai media Hong Kong utama.\n",
      "(z0 / gambar\n",
      "    :topic (z1 / mulai-01\n",
      "               :ARG0 (z2 / orang)\n",
      "               :ARG1-of (z3 / lama-01)\n",
      "               :ARG2 (z4 / muncul-01\n",
      "                         :ARG1 z2\n",
      "                         :manner (z5 / frekuensi)\n",
      "                         :location (z6 / media\n",
      "                                       :mod (z7 / berbagai)\n",
      "                                       :ARG1-of (z8 / utama-01)\n",
      "                                       :mod (z9 / kota\n",
      "                                                :wiki \"Hong_Kong\"\n",
      "                                                :name (z10 / nama\n",
      "                                                           :op1 \"Hong\"\n",
      "                                                           :op2 \"Kong\")))))\n",
      "    :time (z11 / entitas-tanggal\n",
      "               :year 2005\n",
      "               :season (z12 / panas)))\n"
     ]
    }
   ],
   "source": [
    "print(penman.encode(a))"
   ]
  },
  {
   "cell_type": "code",
   "execution_count": 11,
   "id": "31efa6f2-545f-468b-a095-462f0d46cc6b",
   "metadata": {},
   "outputs": [],
   "source": [
    "from AMRAugmenter import AMRAugmenter"
   ]
  },
  {
   "cell_type": "code",
   "execution_count": 12,
   "id": "19344445-6946-47c3-bfd9-c83ce1c69e7a",
   "metadata": {},
   "outputs": [],
   "source": [
    "augmenter_nltk = AMRAugmenter(source='nltk')"
   ]
  },
  {
   "cell_type": "code",
   "execution_count": 14,
   "id": "1bf06d28-d3e5-4afc-be2a-089660658ffe",
   "metadata": {},
   "outputs": [],
   "source": [
    "b = augmenter_nltk.augment_amr(a)"
   ]
  },
  {
   "cell_type": "code",
   "execution_count": 16,
   "id": "5cd57dbf-4469-4a7d-a41e-f9c074511e64",
   "metadata": {},
   "outputs": [
    {
     "name": "stdout",
     "output_type": "stream",
     "text": [
      "(z0 / gambar\n",
      "    :topic (z1 / mulai-01\n",
      "               :ARG0 (z2 / orang)\n",
      "               :ARG2 (z4 / muncul-01\n",
      "                         :ARG1 z2\n",
      "                         :manner (z5 / frekuensi)\n",
      "                         :location (z6 / media\n",
      "                                       :mod (z7 / berbagai)\n",
      "                                       :mod (z9 / kota\n",
      "                                                :name (z10 / nama))\n",
      "                                       :ARG1-of (z8 / utama-01)))\n",
      "               :ARG1-of (z3 / lama-01))\n",
      "    :time (z11 / entitas-tanggal\n",
      "               :season (z12 / panas)))\n"
     ]
    }
   ],
   "source": [
    "print(penman.encode(b))"
   ]
  },
  {
   "cell_type": "code",
   "execution_count": 17,
   "id": "2f78ec53-e555-4dbd-8e09-60d8d7ca2594",
   "metadata": {},
   "outputs": [
    {
     "data": {
      "text/plain": [
       "[('z0', ':instance', 'gambar'),\n",
       " ('z1', ':instance', 'mulai-01'),\n",
       " ('z2', ':instance', 'orang'),\n",
       " ('z3', ':instance', 'lama-01'),\n",
       " ('z4', ':instance', 'muncul-01'),\n",
       " ('z5', ':instance', 'frekuensi'),\n",
       " ('z6', ':instance', 'media'),\n",
       " ('z7', ':instance', 'berbagai'),\n",
       " ('z8', ':instance', 'utama-01'),\n",
       " ('z9', ':instance', 'kota'),\n",
       " ('z10', ':instance', 'nama'),\n",
       " ('z11', ':instance', 'entitas-tanggal'),\n",
       " ('z12', ':instance', 'panas'),\n",
       " ('z0', ':topic', 'z1'),\n",
       " ('z0', ':time', 'z11'),\n",
       " ('z1', ':ARG0', 'z2'),\n",
       " ('z1', ':ARG2', 'z4'),\n",
       " ('z3', ':ARG1', 'z1'),\n",
       " ('z4', ':ARG1', 'z2'),\n",
       " ('z4', ':manner', 'z5'),\n",
       " ('z4', ':location', 'z6'),\n",
       " ('z6', ':mod', 'z7'),\n",
       " ('z6', ':mod', 'z9'),\n",
       " ('z8', ':ARG1', 'z6'),\n",
       " ('z9', ':name', 'z10'),\n",
       " ('z11', ':season', 'z12')]"
      ]
     },
     "execution_count": 17,
     "metadata": {},
     "output_type": "execute_result"
    }
   ],
   "source": [
    "b.triples"
   ]
  },
  {
   "cell_type": "code",
   "execution_count": 18,
   "id": "80bfa441-5d61-461f-8e00-936ea6c6eec4",
   "metadata": {},
   "outputs": [
    {
     "data": {
      "text/plain": [
       "[('z0', ':instance', 'gambar'),\n",
       " ('z0', ':topic', 'z1'),\n",
       " ('z1', ':instance', 'mulai-01'),\n",
       " ('z1', ':ARG0', 'z2'),\n",
       " ('z2', ':instance', 'orang'),\n",
       " ('z3', ':ARG1', 'z1'),\n",
       " ('z3', ':instance', 'lama-01'),\n",
       " ('z1', ':ARG2', 'z4'),\n",
       " ('z4', ':instance', 'muncul-01'),\n",
       " ('z4', ':ARG1', 'z2'),\n",
       " ('z4', ':manner', 'z5'),\n",
       " ('z5', ':instance', 'frekuensi'),\n",
       " ('z4', ':location', 'z6'),\n",
       " ('z6', ':instance', 'media'),\n",
       " ('z6', ':mod', 'z7'),\n",
       " ('z7', ':instance', 'berbagai'),\n",
       " ('z8', ':ARG1', 'z6'),\n",
       " ('z8', ':instance', 'utama-01'),\n",
       " ('z6', ':mod', 'z9'),\n",
       " ('z9', ':instance', 'kota'),\n",
       " ('z9', ':wiki', '\"Hong_Kong\"'),\n",
       " ('z9', ':name', 'z10'),\n",
       " ('z10', ':instance', 'nama'),\n",
       " ('z10', ':op1', '\"Hong\"'),\n",
       " ('z10', ':op2', '\"Kong\"'),\n",
       " ('z0', ':time', 'z11'),\n",
       " ('z11', ':instance', 'entitas-tanggal'),\n",
       " ('z11', ':year', '2005'),\n",
       " ('z11', ':season', 'z12'),\n",
       " ('z12', ':instance', 'panas')]"
      ]
     },
     "execution_count": 18,
     "metadata": {},
     "output_type": "execute_result"
    }
   ],
   "source": [
    "a.triples"
   ]
  },
  {
   "cell_type": "code",
   "execution_count": null,
   "id": "b5ec93bd-8988-484e-a254-d6a646f1576d",
   "metadata": {},
   "outputs": [],
   "source": []
  }
 ],
 "metadata": {
  "kernelspec": {
   "display_name": "Python 3 (ipykernel)",
   "language": "python",
   "name": "python3"
  },
  "language_info": {
   "codemirror_mode": {
    "name": "ipython",
    "version": 3
   },
   "file_extension": ".py",
   "mimetype": "text/x-python",
   "name": "python",
   "nbconvert_exporter": "python",
   "pygments_lexer": "ipython3",
   "version": "3.10.14"
  }
 },
 "nbformat": 4,
 "nbformat_minor": 5
}
