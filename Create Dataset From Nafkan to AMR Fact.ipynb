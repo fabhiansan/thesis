{
 "cells": [
  {
   "cell_type": "code",
   "execution_count": 1,
   "id": "73f26b22",
   "metadata": {},
   "outputs": [],
   "source": [
    "x = 5"
   ]
  },
  {
   "cell_type": "code",
   "execution_count": 2,
   "id": "c618927c-da4d-44a2-8ac4-33bf2d9b3a33",
   "metadata": {},
   "outputs": [
    {
     "data": {
      "text/plain": [
       "['jdk',\n",
       " 'splade',\n",
       " 'AMRBART',\n",
       " '.local',\n",
       " '.ipynb_checkpoints',\n",
       " 'amr-tst-indo',\n",
       " '.ssh',\n",
       " '.git-credentials',\n",
       " '.python_history',\n",
       " 'git clone.txt',\n",
       " '__MACOSX',\n",
       " '.rustup',\n",
       " '.keras',\n",
       " 'conceptnet-assertions-5.7.0.csv',\n",
       " 'dataset',\n",
       " 'amr_parser',\n",
       " 'data-builder',\n",
       " '.bash_history',\n",
       " '.bash_logout',\n",
       " '.profile',\n",
       " '.wget-hsts',\n",
       " '.nv',\n",
       " '.jupyter',\n",
       " '.demo.db.lock',\n",
       " '.conda',\n",
       " '??',\n",
       " '.config',\n",
       " '.gitconfig',\n",
       " '.cache',\n",
       " 'shared_data',\n",
       " '.cargo',\n",
       " 'thesis',\n",
       " 'Dataset',\n",
       " '.npm',\n",
       " '.ipython',\n",
       " 'nltk_data',\n",
       " '.zshenv',\n",
       " '.bashrc',\n",
       " 'stanza_resources']"
      ]
     },
     "execution_count": 2,
     "metadata": {},
     "output_type": "execute_result"
    }
   ],
   "source": [
    "import os\n",
    "os.environ[\"CUDA_VISIBLE_DEVICES\"] = \"2\"\n",
    "os.listdir()"
   ]
  },
  {
   "cell_type": "code",
   "execution_count": 3,
   "id": "8bc4a51e-74f7-4158-9f30-a6d8466628a9",
   "metadata": {},
   "outputs": [
    {
     "data": {
      "text/plain": [
       "['pointer_to_penman.ipynb',\n",
       " 'val-gold.amr',\n",
       " '.ipynb_checkpoints',\n",
       " 'amrbart-id-concat-pretrain',\n",
       " 'amrbart-id-concat-val',\n",
       " 'amrbart-id-concat-train-amr2',\n",
       " 'amrbart-id-pretrain',\n",
       " 'amrbart-id-train-amr3-augfil',\n",
       " 'amrbart-id-concat-train-amr3',\n",
       " 'amrbart-id-concat-val-original',\n",
       " 'amrbart-id-train-amr2',\n",
       " 'amrbart-id-train-amr3-aug',\n",
       " 'test-gold.amr',\n",
       " 'amrbart-id-train-amr3',\n",
       " 'amrbart-id-concat-train-amr3-aug',\n",
       " 'amrbart-id-val',\n",
       " 'amrbart-id-concat-train-amr3-augfil']"
      ]
     },
     "execution_count": 3,
     "metadata": {},
     "output_type": "execute_result"
    }
   ],
   "source": [
    "new_dir = \"thesis\"\n",
    "\n",
    "os.chdir(new_dir)\n",
    "\n",
    "os.listdir(\"../dataset/ds/\")"
   ]
  },
  {
   "cell_type": "code",
   "execution_count": 4,
   "id": "8004443f-6d63-4d4d-b674-152e9ce92903",
   "metadata": {},
   "outputs": [],
   "source": [
    "import penman\n",
    "from utils.pointer_to_penman import convert_amr"
   ]
  },
  {
   "cell_type": "markdown",
   "id": "b48707d4-f3a5-421d-aa5c-b9fd2df159f9",
   "metadata": {},
   "source": [
    "# dataset nafkhan"
   ]
  },
  {
   "cell_type": "code",
   "execution_count": 5,
   "id": "c2ba6290-af99-45cb-b911-e9e92df4781a",
   "metadata": {},
   "outputs": [],
   "source": [
    "path_train_concat_amr2 = \"../dataset/ds/amrbart-id-concat-train-amr2/train.jsonl\"\n",
    "path_train_concat_amr3 = \"../dataset/ds/amrbart-id-concat-train-amr3/train.jsonl\""
   ]
  },
  {
   "cell_type": "code",
   "execution_count": 6,
   "id": "a2369933-7fc7-4b64-beae-e1e64e7fae86",
   "metadata": {},
   "outputs": [
    {
     "data": {
      "text/html": [
       "<div>\n",
       "<style scoped>\n",
       "    .dataframe tbody tr th:only-of-type {\n",
       "        vertical-align: middle;\n",
       "    }\n",
       "\n",
       "    .dataframe tbody tr th {\n",
       "        vertical-align: top;\n",
       "    }\n",
       "\n",
       "    .dataframe thead th {\n",
       "        text-align: right;\n",
       "    }\n",
       "</style>\n",
       "<table border=\"1\" class=\"dataframe\">\n",
       "  <thead>\n",
       "    <tr style=\"text-align: right;\">\n",
       "      <th></th>\n",
       "      <th>amr</th>\n",
       "      <th>en</th>\n",
       "      <th>id</th>\n",
       "    </tr>\n",
       "  </thead>\n",
       "  <tbody>\n",
       "    <tr>\n",
       "      <th>0</th>\n",
       "      <td>( &lt;pointer:0&gt; start-01 :ARG0 ( &lt;pointer:1&gt; pic...</td>\n",
       "      <td>In the summer of 2005 , a picture that people ...</td>\n",
       "      <td>Pada musim panas 2005, sebuah gambar bahwa ora...</td>\n",
       "    </tr>\n",
       "    <tr>\n",
       "      <th>1</th>\n",
       "      <td>( &lt;pointer:0&gt; cause-01 :ARG0 ( &lt;pointer:1&gt; ima...</td>\n",
       "      <td>With their unique charm , these well - known c...</td>\n",
       "      <td>Dengan pesona unik mereka, gambar kartun terke...</td>\n",
       "    </tr>\n",
       "    <tr>\n",
       "      <th>2</th>\n",
       "      <td>( &lt;pointer:0&gt; open-01 :ARG1 ( &lt;pointer:1&gt; amus...</td>\n",
       "      <td>The world 's fifth Disney park will soon open ...</td>\n",
       "      <td>Taman Disney kelima di dunia akan segera terbu...</td>\n",
       "    </tr>\n",
       "    <tr>\n",
       "      <th>3</th>\n",
       "      <td>( &lt;pointer:0&gt; important-01 :ARG1 ( &lt;pointer:1&gt;...</td>\n",
       "      <td>The most important thing about Disney is that ...</td>\n",
       "      <td>Hal yang paling penting tentang Disney adalah ...</td>\n",
       "    </tr>\n",
       "    <tr>\n",
       "      <th>4</th>\n",
       "      <td>( &lt;pointer:0&gt; have-concession-91 :ARG1 ( &lt;poin...</td>\n",
       "      <td>Well , for several years , although it was sti...</td>\n",
       "      <td>Nah, selama beberapa tahun, meskipun masih dal...</td>\n",
       "    </tr>\n",
       "  </tbody>\n",
       "</table>\n",
       "</div>"
      ],
      "text/plain": [
       "                                                 amr  \\\n",
       "0  ( <pointer:0> start-01 :ARG0 ( <pointer:1> pic...   \n",
       "1  ( <pointer:0> cause-01 :ARG0 ( <pointer:1> ima...   \n",
       "2  ( <pointer:0> open-01 :ARG1 ( <pointer:1> amus...   \n",
       "3  ( <pointer:0> important-01 :ARG1 ( <pointer:1>...   \n",
       "4  ( <pointer:0> have-concession-91 :ARG1 ( <poin...   \n",
       "\n",
       "                                                  en  \\\n",
       "0  In the summer of 2005 , a picture that people ...   \n",
       "1  With their unique charm , these well - known c...   \n",
       "2  The world 's fifth Disney park will soon open ...   \n",
       "3  The most important thing about Disney is that ...   \n",
       "4  Well , for several years , although it was sti...   \n",
       "\n",
       "                                                  id  \n",
       "0  Pada musim panas 2005, sebuah gambar bahwa ora...  \n",
       "1  Dengan pesona unik mereka, gambar kartun terke...  \n",
       "2  Taman Disney kelima di dunia akan segera terbu...  \n",
       "3  Hal yang paling penting tentang Disney adalah ...  \n",
       "4  Nah, selama beberapa tahun, meskipun masih dal...  "
      ]
     },
     "execution_count": 6,
     "metadata": {},
     "output_type": "execute_result"
    }
   ],
   "source": [
    "import pandas as pd \n",
    "\n",
    "df_train_concat_amr2 = pd.read_json(path_train_concat_amr2, lines=True)\n",
    "df_train_concat_amr2.head()"
   ]
  },
  {
   "cell_type": "code",
   "execution_count": 7,
   "id": "460cea99-4209-4459-b030-90330b0ba938",
   "metadata": {},
   "outputs": [],
   "source": [
    "b = convert_amr(df_train_concat_amr2.iloc[0]['amr'])"
   ]
  },
  {
   "cell_type": "code",
   "execution_count": 8,
   "id": "107e3f9b-e49d-47ff-93d9-6465041ce1f4",
   "metadata": {},
   "outputs": [
    {
     "name": "stdout",
     "output_type": "stream",
     "text": [
      "(s1 / start-01\n",
      "    :ARG0 (p1 / picture\n",
      "              :ARG1-of (l1 / look-forward-03\n",
      "                           :ARG0 (p2 / person)\n",
      "                           :ARG1-of (l2 / long-03)))\n",
      "    :ARG1 (e1 / emerge-01\n",
      "              :ARG1-of (f1 / frequent-02)\n",
      "              :location (m1 / media\n",
      "                            :mod (v1 / various)\n",
      "                            :ARG1-of (m2 / major-02)\n",
      "                            :location (c1 / city\n",
      "                                          :wiki \"Hong_Kong\"\n",
      "                                          :name (n1 / name\n",
      "                                                    :op1 \"Hong\"\n",
      "                                                    :op2 \"Kong\"))))\n",
      "    :time (d1 / date-entity\n",
      "              :year 2005\n",
      "              :season (s2 / summer)))\n"
     ]
    }
   ],
   "source": [
    "print(b)"
   ]
  },
  {
   "cell_type": "code",
   "execution_count": 9,
   "id": "affb7964-0ecc-4a4d-8996-f2fc6ac92434",
   "metadata": {},
   "outputs": [
    {
     "data": {
      "text/plain": [
       "'In the summer of 2005 , a picture that people have long been looking forward to started emerging with frequency in various major Hong Kong media .'"
      ]
     },
     "execution_count": 9,
     "metadata": {},
     "output_type": "execute_result"
    }
   ],
   "source": [
    "df_train_concat_amr2.iloc[0]['en']"
   ]
  },
  {
   "cell_type": "code",
   "execution_count": 10,
   "id": "4f988ef5-93e7-431f-a161-f2929306bc43",
   "metadata": {},
   "outputs": [
    {
     "data": {
      "text/plain": [
       "'Pada musim panas 2005, sebuah gambar bahwa orang telah lama berharap untuk mulai muncul dengan frekuensi di berbagai media Hong Kong utama.'"
      ]
     },
     "execution_count": 10,
     "metadata": {},
     "output_type": "execute_result"
    }
   ],
   "source": [
    "df_train_concat_amr2.iloc[0]['id']"
   ]
  },
  {
   "cell_type": "markdown",
   "id": "362bd21a-e020-4280-9eb0-5958925aba1a",
   "metadata": {},
   "source": [
    "# dataset indohoax"
   ]
  },
  {
   "cell_type": "code",
   "execution_count": 11,
   "id": "3fa52b6a-dedf-43ed-b8b8-bd1f6e429e41",
   "metadata": {},
   "outputs": [
    {
     "name": "stderr",
     "output_type": "stream",
     "text": [
      "2025-02-26 04:14:11.544381: I tensorflow/core/util/port.cc:110] oneDNN custom operations are on. You may see slightly different numerical results due to floating-point round-off errors from different computation orders. To turn them off, set the environment variable `TF_ENABLE_ONEDNN_OPTS=0`.\n",
      "2025-02-26 04:14:11.547055: I tensorflow/tsl/cuda/cudart_stub.cc:28] Could not find cuda drivers on your machine, GPU will not be used.\n",
      "2025-02-26 04:14:11.598827: I tensorflow/core/platform/cpu_feature_guard.cc:182] This TensorFlow binary is optimized to use available CPU instructions in performance-critical operations.\n",
      "To enable the following instructions: AVX2 AVX512F AVX512_VNNI FMA, in other operations, rebuild TensorFlow with the appropriate compiler flags.\n",
      "2025-02-26 04:14:12.393316: W tensorflow/compiler/tf2tensorrt/utils/py_utils.cc:38] TF-TRT Warning: Could not find TensorRT\n"
     ]
    }
   ],
   "source": [
    "from text_to_amr import TextToAMRSan"
   ]
  },
  {
   "cell_type": "code",
   "execution_count": 12,
   "id": "c0ccd072-f7e4-4940-bbea-ba54f1911b38",
   "metadata": {},
   "outputs": [],
   "source": [
    "text_to_amr = TextToAMRSan()"
   ]
  },
  {
   "cell_type": "code",
   "execution_count": 13,
   "id": "dd07e73d-96ff-4efa-b348-ed30bdf03ea9",
   "metadata": {},
   "outputs": [],
   "source": [
    "a = text_to_amr(\"Pada musim panas 2005, sebuah gambar bahwa orang telah lama berharap untuk mulai muncul dengan frekuensi di berbagai media Hong Kong utama.\")"
   ]
  },
  {
   "cell_type": "code",
   "execution_count": 14,
   "id": "fa6d0a33",
   "metadata": {},
   "outputs": [],
   "source": [
    "a.metadata = {}"
   ]
  },
  {
   "cell_type": "code",
   "execution_count": 15,
   "id": "ff25061a-6051-493b-9937-a408bff0cf8f",
   "metadata": {},
   "outputs": [
    {
     "name": "stdout",
     "output_type": "stream",
     "text": [
      "(z0 / gambar\n",
      "    :topic (z1 / mulai-01\n",
      "               :ARG0 (z2 / orang)\n",
      "               :ARG1-of (z3 / lama-01)\n",
      "               :ARG2 (z4 / muncul-01\n",
      "                         :ARG1 z2\n",
      "                         :manner (z5 / frekuensi)\n",
      "                         :location (z6 / media\n",
      "                                       :mod (z7 / berbagai)\n",
      "                                       :ARG1-of (z8 / utama-01)\n",
      "                                       :mod (z9 / kota\n",
      "                                                :wiki \"Hong_Kong\"\n",
      "                                                :name (z10 / nama\n",
      "                                                           :op1 \"Hong\"\n",
      "                                                           :op2 \"Kong\")))))\n",
      "    :time (z11 / entitas-tanggal\n",
      "               :year 2005\n",
      "               :season (z12 / panas)))\n"
     ]
    }
   ],
   "source": [
    "print(penman.encode(a))"
   ]
  },
  {
   "cell_type": "code",
   "execution_count": 16,
   "id": "b787586d",
   "metadata": {},
   "outputs": [],
   "source": [
    "from AMRFactGenerator import AMRFactDynamicGenerator\n",
    "from penman.models.amr import model as amr_model"
   ]
  },
  {
   "cell_type": "code",
   "execution_count": 17,
   "id": "10e72a55",
   "metadata": {},
   "outputs": [],
   "source": [
    "error_generator = AMRFactDynamicGenerator(model=amr_model)"
   ]
  },
  {
   "cell_type": "code",
   "execution_count": 18,
   "id": "884ca338",
   "metadata": {},
   "outputs": [
    {
     "data": {
      "text/plain": [
       "'(z0 / gambar\\n    :topic (z1 / mulai-01\\n               :ARG0 (z2 / orang)\\n               :ARG1-of (z3 / lama-01)\\n               :ARG2 (z4 / muncul-01\\n                         :ARG1 z2\\n                         :manner (z5 / frekuensi)\\n                         :location (z6 / media\\n                                       :mod (z7 / berbagai)\\n                                       :ARG1-of (z8 / utama-01)\\n                                       :mod (z9 / kota\\n                                                :wiki \"Hong_Kong\"\\n                                                :name (z10 / nama\\n                                                           :op1 \"Hong\"\\n                                                           :op2 \"Kong\")))))\\n    :time (z11 / entitas-tanggal\\n               :year 2005\\n               :season (z12 / panas)))'"
      ]
     },
     "execution_count": 18,
     "metadata": {},
     "output_type": "execute_result"
    }
   ],
   "source": [
    "penman.encode(a)"
   ]
  },
  {
   "cell_type": "code",
   "execution_count": 25,
   "id": "75f39592",
   "metadata": {},
   "outputs": [
    {
     "name": "stdout",
     "output_type": "stream",
     "text": [
      "\n",
      "PREDICATE ERROR:\n",
      "Modified AMR: (z0 / gambar\n",
      "    :topic (z1 / mulai-01\n",
      "               :ARG0 (z2 / orang)\n",
      "               :ARG1-of (z3 / lama-01)\n",
      "               :ARG2 (z4 / muncul-02\n",
      "                         :ARG1 z2\n",
      "                         :manner (z5 / frekuensi)\n",
      "                         :location (z6 / media\n",
      "                                       :mod (z7 / berbagai)\n",
      "                                       :ARG1-of (z8 / utama-01)\n",
      "                                       :mod (z9 / kota\n",
      "                                                :wiki \"Hong_Kong\"\n",
      "                                                :name (z10 / nama\n",
      "                                                           :op1 \"Hong\"\n",
      "                                                           :op2 \"Kong\")))))\n",
      "    :time (z11 / entitas-tanggal\n",
      "               :year 2005\n",
      "               :season (z12 / panas)))\n",
      "Description: Predicate Error: Changed sense from 'muncul-01' to 'muncul-02'\n",
      "\n",
      "ENTITY ERROR:\n",
      "Modified AMR: (z0 / gambar\n",
      "    :topic (z1 / mulai-01\n",
      "               :ARG0 (z2 / orang)\n",
      "               :ARG1-of (z3 / lama-01)\n",
      "               :ARG2 (z4 / muncul-01\n",
      "                         :ARG1 z2\n",
      "                         :manner (z5 / frekuensi)\n",
      "                         :location (z6 / media\n",
      "                                       :mod (z7 / berbagai)\n",
      "                                       :ARG1-of (z8 / utama-01)\n",
      "                                       :mod (z9 / kota\n",
      "                                                :wiki \"Hong_Kong\"\n",
      "                                                :name (z10 / nama\n",
      "                                                           :op1 \"Hong\"\n",
      "                                                           :op2 GKTng\")))))\n",
      "    :time (z11 / entitas-tanggal\n",
      "               :year 2005\n",
      "               :season (z12 / panas)))\n",
      "Description: Entity Error: Changed entity name from '\"Kong\"' to 'GKTng\"'\n",
      "\n",
      "CIRCUMSTANCE ERROR:\n",
      "Modified AMR: (z0 / gambar\n",
      "    :topic (z1 / mulai-01\n",
      "               :ARG0 (z2 / orang)\n",
      "               :ARG1-of (z3 / lama-01)\n",
      "               :ARG2 (z4 / muncul-01\n",
      "                         :ARG1 z2\n",
      "                         :manner (z5 / frekuensi)\n",
      "                         :location (z6 / media\n",
      "                                       :mod (z7 / berbagai)\n",
      "                                       :ARG1-of (z8 / utama-01)\n",
      "                                       :mod (z9 / kota\n",
      "                                                :wiki \"Hong_Kong\"\n",
      "                                                :name (z10 / nama\n",
      "                                                           :op1 \"Hong\"\n",
      "                                                           :op2 \"Kong\")))))\n",
      "    :time (z11 / entitas-tanggal\n",
      "               :season (z12 / panas)\n",
      "               :year 2018))\n",
      "Description: Circumstance Error: Changed time from '2005' to '2018'\n",
      "\n",
      "DISCOURSE ERROR:\n",
      "Modified AMR: (z0 / gambar\n",
      "    :topic (z1 / mulai-01\n",
      "               :ARG0 (z2 / orang)\n",
      "               :ARG1-of (z3 / lama-01)\n",
      "               :ARG2 (z4 / muncul-01\n",
      "                         :ARG1 z2\n",
      "                         :manner (z5 / frekuensi)\n",
      "                         :location (z6 / media\n",
      "                                       :mod (z7 / berbagai)\n",
      "                                       :ARG1-of (z8 / utama-01)\n",
      "                                       :mod (z9 / kota\n",
      "                                                :wiki \"Hong_Kong\"\n",
      "                                                :name (z10 / nama\n",
      "                                                           :op1 \"Hong\"\n",
      "                                                           :op2 \"Kong\")))))\n",
      "    :cause (z11 / entitas-tanggal\n",
      "                :year 2005\n",
      "                :season (z12 / panas)))\n",
      "Description: Discourse Link Error: Changed relation ':time' to ':cause'\n",
      "\n",
      "OUT_OF_ARTICLE ERROR:\n",
      "Modified AMR: (z0 / gambar\n",
      "    :topic (z1 / mulai-01\n",
      "               :ARG0 (z2 / orang)\n",
      "               :ARG1-of (z3 / lama-01)\n",
      "               :ARG2 (z4 / muncul-01\n",
      "                         :ARG1 z2\n",
      "                         :manner (z5 / frekuensi)\n",
      "                         :location (z6 / media\n",
      "                                       :mod (z7 / berbagai)\n",
      "                                       :ARG1-of (z8 / utama-01)\n",
      "                                       :mod (z9 / kota\n",
      "                                                :wiki \"Hong_Kong\"\n",
      "                                                :name (z10 / nama\n",
      "                                                           :op1 \"Hong\"\n",
      "                                                           :op2 \"Kong\")))))\n",
      "    :time (z11 / entitas-tanggal\n",
      "               :year 2005\n",
      "               :season (z12 / panas))\n",
      "    :year2 (z14 / say-01\n",
      "                :ARG0 (a15 / person\n",
      "                           :name (n16 / name\n",
      "                                      :op1 Person94))))\n",
      "Description: Out of Article Error: Added new predicate 'say-01' not in original document\n"
     ]
    }
   ],
   "source": [
    "all_errors = error_generator.generate_all_error_types(a)\n",
    "\n",
    "for error_type, (modified_graph, description) in all_errors.items():\n",
    "    print(f\"\\n{error_type.upper()} ERROR:\")\n",
    "    print(f\"Modified AMR: {penman.encode(modified_graph)}\")\n",
    "    print(f\"Description: {description}\")"
   ]
  },
  {
   "cell_type": "code",
   "execution_count": 21,
   "id": "452eea5d",
   "metadata": {},
   "outputs": [
    {
     "data": {
      "text/plain": [
       "'Entity Error: Changed entity name from \\'\"Hong\"\\' to \\'IHoJg\"\\''"
      ]
     },
     "execution_count": 21,
     "metadata": {},
     "output_type": "execute_result"
    }
   ],
   "source": [
    "description"
   ]
  },
  {
   "cell_type": "code",
   "execution_count": 23,
   "id": "aa3280a4",
   "metadata": {},
   "outputs": [
    {
     "name": "stdout",
     "output_type": "stream",
     "text": [
      "(z0 / gambar\n",
      "    :topic (z1 / mulai-01\n",
      "               :ARG0 (z2 / orang)\n",
      "               :ARG1-of (z3 / lama-01)\n",
      "               :ARG2 (z4 / muncul-01\n",
      "                         :ARG1 z2\n",
      "                         :manner (z5 / frekuensi)\n",
      "                         :location (z6 / media\n",
      "                                       :mod (z7 / berbagai)\n",
      "                                       :ARG1-of (z8 / utama-01)\n",
      "                                       :mod (z9 / kota\n",
      "                                                :wiki \"Hong_Kong\"\n",
      "                                                :name (z10 / nama\n",
      "                                                           :op2 \"Kong\"\n",
      "                                                           :op1 IHoJg\")))))\n",
      "    :time (z11 / entitas-tanggal\n",
      "               :year 2005\n",
      "               :season (z12 / panas)))\n"
     ]
    }
   ],
   "source": [
    "print(penman.encode(modified_amr))"
   ]
  },
  {
   "cell_type": "code",
   "execution_count": 29,
   "id": "b38bb3cf",
   "metadata": {},
   "outputs": [
    {
     "name": "stdout",
     "output_type": "stream",
     "text": [
      "(z0 / gambar\n",
      "    :topic (z1 / mulai-01\n",
      "               :ARG0 (z2 / orang)\n",
      "               :ARG1-of (z3 / lama-01)\n",
      "               :ARG2 (z4 / muncul-01\n",
      "                         :ARG1 z2\n",
      "                         :manner (z5 / frekuensi)\n",
      "                         :location (z6 / media\n",
      "                                       :mod (z7 / berbagai)\n",
      "                                       :ARG1-of (z8 / utama-01)\n",
      "                                       :mod (z9 / kota\n",
      "                                                :wiki \"Hong_Kong\"\n",
      "                                                :name (z10 / nama\n",
      "                                                           :op1 \"Hong\"\n",
      "                                                           :op2 \"Kong\")))))\n",
      "    :time (z11 / entitas-tanggal\n",
      "               :year 2005\n",
      "               :season (z12 / panas)))\n"
     ]
    }
   ],
   "source": [
    "print(penman.encode(a))"
   ]
  },
  {
   "cell_type": "code",
   "execution_count": 30,
   "id": "8a389478",
   "metadata": {},
   "outputs": [],
   "source": [
    "modified_amr, description = error_generator.introduce_error(penman.encode(a))"
   ]
  },
  {
   "cell_type": "code",
   "execution_count": 31,
   "id": "ac144660",
   "metadata": {},
   "outputs": [
    {
     "name": "stdout",
     "output_type": "stream",
     "text": [
      "(z0 / gambar\n",
      "    :topic (z1 / mulai-01\n",
      "               :ARG0 (z2 / meminta)\n",
      "               :ARG1-of (z3 / lama-01)\n",
      "               :ARG2 (z4 / muncul-01\n",
      "                         :ARG1 z2\n",
      "                         :manner (z5 / frekuensi)\n",
      "                         :location (z6 / media\n",
      "                                       :mod (z7 / berbagai)\n",
      "                                       :ARG1-of (z8 / utama-01)\n",
      "                                       :mod (z9 / kota\n",
      "                                                :wiki \"Hong_Kong\"\n",
      "                                                :name (z10 / nama\n",
      "                                                           :op1 \"Hong\"\n",
      "                                                           :op2 \"Kong\")))))\n",
      "    :time (z11 / entitas-tanggal\n",
      "               :year 2005\n",
      "               :season (z12 / panas)))\n"
     ]
    }
   ],
   "source": [
    "print(modified_amr)"
   ]
  },
  {
   "cell_type": "code",
   "execution_count": 32,
   "id": "731fae85",
   "metadata": {},
   "outputs": [
    {
     "data": {
      "text/plain": [
       "\"Predicate Error: Changed 'orang' to 'meminta'\""
      ]
     },
     "execution_count": 32,
     "metadata": {},
     "output_type": "execute_result"
    }
   ],
   "source": [
    "description"
   ]
  },
  {
   "cell_type": "code",
   "execution_count": 30,
   "id": "216c2381",
   "metadata": {},
   "outputs": [],
   "source": [
    "from tqdm.notebook import tqdm \n",
    "import copy"
   ]
  },
  {
   "cell_type": "code",
   "execution_count": 27,
   "id": "428636bd",
   "metadata": {},
   "outputs": [],
   "source": [
    "df_augmented = df_train_concat_amr2.copy()\n"
   ]
  },
  {
   "cell_type": "code",
   "execution_count": 28,
   "id": "19b0cdb0",
   "metadata": {},
   "outputs": [],
   "source": [
    "df_augmented['generated'] = None\n",
    "df_augmented['augmented'] = None"
   ]
  },
  {
   "cell_type": "code",
   "execution_count": 31,
   "id": "b9f1b774",
   "metadata": {},
   "outputs": [
    {
     "data": {
      "application/vnd.jupyter.widget-view+json": {
       "model_id": "b61ec010f63f4eada71ef64fd4843f64",
       "version_major": 2,
       "version_minor": 0
      },
      "text/plain": [
       "  0%|          | 0/34396 [00:00<?, ?it/s]"
      ]
     },
     "metadata": {},
     "output_type": "display_data"
    },
    {
     "name": "stdout",
     "output_type": "stream",
     "text": [
      "Error processing row 0: possibly disconnected graph\n",
      "Successfully processed 0 rows\n",
      "Errors in 1 rows\n"
     ]
    }
   ],
   "source": [
    "results = []\n",
    "for idx, row in tqdm(df_augmented.iterrows(), total=len(df_augmented)):\n",
    "    try:\n",
    "        # Generate AMR from text\n",
    "        text = row['id']  # Use Indonesian text column\n",
    "        amr_graph = text_to_amr(text)\n",
    "        amr_graph.metadata = {}  # Reset metadata\n",
    "        \n",
    "        # Store the generated AMR\n",
    "        amr_text = penman.encode(amr_graph)\n",
    "        \n",
    "        # Generate all error types\n",
    "        augmentations = {}\n",
    "        for error_type in [\"predicate\", \"entity\", \"circumstance\", \"discourse\", \"out_of_article\"]:\n",
    "            # Generate error\n",
    "            modified_graph, description = error_generator.introduce_error(copy.deepcopy(amr_graph), error_type)\n",
    "            \n",
    "            # Store both the modified AMR text and the description\n",
    "            augmentations[error_type] = {\n",
    "                'amr': penman.encode(modified_graph),\n",
    "                'description': description\n",
    "            }\n",
    "        \n",
    "        # Update the dataframe\n",
    "        df_augmented.at[idx, 'generated'] = amr_text\n",
    "        df_augmented.at[idx, 'augmented'] = augmentations\n",
    "        \n",
    "        # Optional: Store success\n",
    "        results.append({\n",
    "            'idx': idx, \n",
    "            'status': 'success'\n",
    "        })\n",
    "        \n",
    "    except Exception as e:\n",
    "        # Handle any errors\n",
    "        results.append({\n",
    "            'idx': idx, \n",
    "            'status': 'error', \n",
    "            'error': str(e)\n",
    "        })\n",
    "        print(f\"Error processing row {idx}: {e}\")\n",
    "        break\n",
    "\n",
    "# Show the augmented dataframe\n",
    "print(f\"Successfully processed {sum(1 for r in results if r['status'] == 'success')} rows\")\n",
    "print(f\"Errors in {sum(1 for r in results if r['status'] == 'error')} rows\")\n",
    "\n",
    "# Display a sample of the augmented data\n",
    "df_augmented.head(2)\n",
    "\n",
    "# Save the augmented dataset to a file if needed\n",
    "df_augmented.to_json('augmented_amr_dataset.json', orient='records')"
   ]
  },
  {
   "cell_type": "code",
   "execution_count": 32,
   "id": "171158f0",
   "metadata": {},
   "outputs": [],
   "source": [
    "# Define a fallback function for creating simple errors\n",
    "def create_fallback_error(amr_text, error_type):\n",
    "    \"\"\"Create a simpler fallback error by text manipulation when graph manipulation fails\"\"\"\n",
    "    import re\n",
    "    \n",
    "    if error_type == \"predicate\":\n",
    "        # Find and modify a predicate by string replacement\n",
    "        predicates = re.findall(r'/ ([a-z]+-\\d+)', amr_text)\n",
    "        if predicates:\n",
    "            old_pred = predicates[0]\n",
    "            new_pred = old_pred.replace('-01', '-02')  # Change sense number\n",
    "            if old_pred == new_pred:  # If no change, try another approach\n",
    "                new_pred = \"alternative-01\"\n",
    "            modified_amr = amr_text.replace(f\"/ {old_pred}\", f\"/ {new_pred}\", 1)\n",
    "            return modified_amr, f\"Changed predicate from {old_pred} to {new_pred}\"\n",
    "    \n",
    "    elif error_type == \"entity\":\n",
    "        # Find and modify an entity name by string replacement\n",
    "        names = re.findall(r':op\\d+ \"([^\"]+)\"', amr_text)\n",
    "        if names:\n",
    "            old_name = names[0]\n",
    "            new_name = old_name[::-1]  # Reverse the name as a simple change\n",
    "            modified_amr = amr_text.replace(f':op1 \"{old_name}\"', f':op1 \"{new_name}\"', 1)\n",
    "            return modified_amr, f\"Changed entity name from {old_name} to {new_name}\"\n",
    "    \n",
    "    elif error_type == \"circumstance\":\n",
    "        # Add a simple time circumstance\n",
    "        if \":time\" not in amr_text:\n",
    "            # Add before the last closing parenthesis\n",
    "            modified_amr = amr_text.rstrip(')') + \"\\n    :time \\\"yesterday\\\")\"\n",
    "            return modified_amr, \"Added time circumstance 'yesterday'\"\n",
    "    \n",
    "    elif error_type == \"discourse\":\n",
    "        # Add a simple cause relation if not already present\n",
    "        if \":cause\" not in amr_text:\n",
    "            # Add before the last closing parenthesis\n",
    "            modified_amr = amr_text.rstrip(')') + \"\\n    :cause \\\"unknown\\\")\"\n",
    "            return modified_amr, \"Added cause relation 'unknown'\"\n",
    "    \n",
    "    elif error_type == \"out_of_article\":\n",
    "        # Add a simple comment that's clearly out of article\n",
    "        modified_amr = amr_text.rstrip(')') + \"\\n    :comment \\\"This is out of article information\\\")\"\n",
    "        return modified_amr, \"Added out of article comment\"\n",
    "    \n",
    "    # If all else fails, just return the original\n",
    "    return amr_text, \"No modification (fallback failed)\""
   ]
  },
  {
   "cell_type": "code",
   "execution_count": 33,
   "id": "8fdea579",
   "metadata": {},
   "outputs": [
    {
     "data": {
      "application/vnd.jupyter.widget-view+json": {
       "model_id": "97b18a0b70ad4c04b9aff988d9e2267f",
       "version_major": 2,
       "version_minor": 0
      },
      "text/plain": [
       "  0%|          | 0/34396 [00:00<?, ?it/s]"
      ]
     },
     "metadata": {},
     "output_type": "display_data"
    },
    {
     "name": "stdout",
     "output_type": "stream",
     "text": [
      "Successfully processed 1 rows\n",
      "Errors in 0 rows\n"
     ]
    }
   ],
   "source": [
    "# Initialize the error generator\n",
    "from AMRFactGenerator import AMRFactDynamicGenerator\n",
    "from penman.models.amr import model as amr_model\n",
    "import penman\n",
    "import copy\n",
    "from tqdm.notebook import tqdm\n",
    "\n",
    "# Initialize error generator\n",
    "error_generator = AMRFactDynamicGenerator(model=amr_model)\n",
    "\n",
    "# Clone the dataframe for safety\n",
    "df_augmented = df_train_concat_amr2.copy()\n",
    "\n",
    "# Add new columns\n",
    "df_augmented['generated'] = None\n",
    "df_augmented['augmented'] = None\n",
    "\n",
    "# Process each entry and create augmentations\n",
    "results = []\n",
    "for idx, row in tqdm(df_augmented.iterrows(), total=len(df_augmented)):\n",
    "    try:\n",
    "        # Generate AMR from text\n",
    "        text = row['id']  # Use Indonesian text column\n",
    "        amr_graph = text_to_amr(text)\n",
    "        amr_graph.metadata = {}  # Reset metadata\n",
    "        \n",
    "        # Store the generated AMR as text\n",
    "        try:\n",
    "            amr_text = penman.encode(amr_graph)\n",
    "            df_augmented.at[idx, 'generated'] = amr_text\n",
    "        except Exception as e:\n",
    "            print(f\"Error encoding generated AMR for row {idx}: {e}\")\n",
    "            continue  # Skip this row if we can't even encode the original\n",
    "        \n",
    "        # Generate all error types with fallbacks\n",
    "        augmentations = {}\n",
    "        for error_type in [\"predicate\", \"entity\", \"circumstance\", \"discourse\", \"out_of_article\"]:\n",
    "            try:\n",
    "                # Try to generate error on the graph\n",
    "                modified_graph, description = error_generator.introduce_error(copy.deepcopy(amr_graph), error_type)\n",
    "                \n",
    "                # Validate by trying to encode\n",
    "                modified_amr = penman.encode(modified_graph)\n",
    "                \n",
    "                # Store both the modified AMR text and the description\n",
    "                augmentations[error_type] = {\n",
    "                    'amr': modified_amr,\n",
    "                    'description': description\n",
    "                }\n",
    "            except Exception as e:\n",
    "                # If error generation fails, create a simple fallback error\n",
    "                try:\n",
    "                    # Use a simpler fallback approach - modify a string/value directly\n",
    "                    fallback_amr, fallback_desc = create_fallback_error(amr_text, error_type)\n",
    "                    \n",
    "                    augmentations[error_type] = {\n",
    "                        'amr': fallback_amr,\n",
    "                        'description': f\"Fallback {error_type} error: {fallback_desc}\"\n",
    "                    }\n",
    "                except Exception as fallback_e:\n",
    "                    # If even fallback fails, just note the error\n",
    "                    augmentations[error_type] = {\n",
    "                        'amr': amr_text,  # Use original\n",
    "                        'description': f\"Error generating {error_type} error: {str(e)}\"\n",
    "                    }\n",
    "        \n",
    "        # Update the dataframe with augmentations\n",
    "        df_augmented.at[idx, 'augmented'] = augmentations\n",
    "        \n",
    "        # Store success\n",
    "        results.append({\n",
    "            'idx': idx, \n",
    "            'status': 'success'\n",
    "        })\n",
    "        \n",
    "    except Exception as e:\n",
    "        # Handle any errors\n",
    "        results.append({\n",
    "            'idx': idx, \n",
    "            'status': 'error', \n",
    "            'error': str(e)\n",
    "        })\n",
    "        print(f\"Error processing row {idx}: {e}\")\n",
    "    break\n",
    "\n",
    "# Show the augmented dataframe\n",
    "print(f\"Successfully processed {sum(1 for r in results if r['status'] == 'success')} rows\")\n",
    "print(f\"Errors in {sum(1 for r in results if r['status'] == 'error')} rows\")\n",
    "\n",
    "\n",
    "\n",
    "# Display a sample of the augmented data\n",
    "df_augmented.head(2)\n",
    "\n",
    "# Save the augmented dataset to a file if needed\n",
    "df_augmented.to_json('augmented_amr_dataset.json', orient='records')"
   ]
  },
  {
   "cell_type": "code",
   "execution_count": 34,
   "id": "d31b881c",
   "metadata": {},
   "outputs": [
    {
     "data": {
      "text/html": [
       "<div>\n",
       "<style scoped>\n",
       "    .dataframe tbody tr th:only-of-type {\n",
       "        vertical-align: middle;\n",
       "    }\n",
       "\n",
       "    .dataframe tbody tr th {\n",
       "        vertical-align: top;\n",
       "    }\n",
       "\n",
       "    .dataframe thead th {\n",
       "        text-align: right;\n",
       "    }\n",
       "</style>\n",
       "<table border=\"1\" class=\"dataframe\">\n",
       "  <thead>\n",
       "    <tr style=\"text-align: right;\">\n",
       "      <th></th>\n",
       "      <th>amr</th>\n",
       "      <th>en</th>\n",
       "      <th>id</th>\n",
       "      <th>generated</th>\n",
       "      <th>augmented</th>\n",
       "    </tr>\n",
       "  </thead>\n",
       "  <tbody>\n",
       "    <tr>\n",
       "      <th>0</th>\n",
       "      <td>( &lt;pointer:0&gt; start-01 :ARG0 ( &lt;pointer:1&gt; pic...</td>\n",
       "      <td>In the summer of 2005 , a picture that people ...</td>\n",
       "      <td>Pada musim panas 2005, sebuah gambar bahwa ora...</td>\n",
       "      <td>(z0 / gambar\\n    :topic (z1 / mulai-01\\n     ...</td>\n",
       "      <td>{'predicate': {'amr': '(z0 / gambar\n",
       "    :topic...</td>\n",
       "    </tr>\n",
       "    <tr>\n",
       "      <th>1</th>\n",
       "      <td>( &lt;pointer:0&gt; cause-01 :ARG0 ( &lt;pointer:1&gt; ima...</td>\n",
       "      <td>With their unique charm , these well - known c...</td>\n",
       "      <td>Dengan pesona unik mereka, gambar kartun terke...</td>\n",
       "      <td>None</td>\n",
       "      <td>None</td>\n",
       "    </tr>\n",
       "  </tbody>\n",
       "</table>\n",
       "</div>"
      ],
      "text/plain": [
       "                                                 amr  \\\n",
       "0  ( <pointer:0> start-01 :ARG0 ( <pointer:1> pic...   \n",
       "1  ( <pointer:0> cause-01 :ARG0 ( <pointer:1> ima...   \n",
       "\n",
       "                                                  en  \\\n",
       "0  In the summer of 2005 , a picture that people ...   \n",
       "1  With their unique charm , these well - known c...   \n",
       "\n",
       "                                                  id  \\\n",
       "0  Pada musim panas 2005, sebuah gambar bahwa ora...   \n",
       "1  Dengan pesona unik mereka, gambar kartun terke...   \n",
       "\n",
       "                                           generated  \\\n",
       "0  (z0 / gambar\\n    :topic (z1 / mulai-01\\n     ...   \n",
       "1                                               None   \n",
       "\n",
       "                                           augmented  \n",
       "0  {'predicate': {'amr': '(z0 / gambar\n",
       "    :topic...  \n",
       "1                                               None  "
      ]
     },
     "execution_count": 34,
     "metadata": {},
     "output_type": "execute_result"
    }
   ],
   "source": [
    "df_augmented.head(2)"
   ]
  },
  {
   "cell_type": "code",
   "execution_count": 48,
   "id": "aa026880",
   "metadata": {},
   "outputs": [
    {
     "data": {
      "text/plain": [
       "\"Predicate Error: Changed sense from 'utama-01' to 'utama-04'\""
      ]
     },
     "execution_count": 48,
     "metadata": {},
     "output_type": "execute_result"
    }
   ],
   "source": [
    "a = df_augmented.iloc[0]['augmented']\n",
    "a['predicate']['amr']\n",
    "a['predicate']['description']\n",
    "# a['entity']['amr']\n",
    "# a['entity']['description']\n",
    "# a['circumstance']['amr']\n",
    "# a['circumstance']['description']\n",
    "# a['discourse']['amr']\n",
    "# a['discourse']['description']\n",
    "# a['out_of_article']['amr']\n",
    "# a['out_of_article']['description']\n"
   ]
  },
  {
   "cell_type": "code",
   "execution_count": null,
   "id": "7eb002ee",
   "metadata": {},
   "outputs": [],
   "source": []
  }
 ],
 "metadata": {
  "kernelspec": {
   "display_name": "Python 3 (ipykernel)",
   "language": "python",
   "name": "python3"
  },
  "language_info": {
   "codemirror_mode": {
    "name": "ipython",
    "version": 3
   },
   "file_extension": ".py",
   "mimetype": "text/x-python",
   "name": "python",
   "nbconvert_exporter": "python",
   "pygments_lexer": "ipython3",
   "version": "3.10.14"
  }
 },
 "nbformat": 4,
 "nbformat_minor": 5
}
