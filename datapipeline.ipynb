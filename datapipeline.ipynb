{
 "cells": [
  {
   "cell_type": "code",
   "execution_count": 3,
   "metadata": {},
   "outputs": [
    {
     "data": {
      "text/plain": [
       "['start_monitoring.sh',\n",
       " 'data',\n",
       " 'visualize_gpu_data.py',\n",
       " '.ipynb_checkpoints',\n",
       " 'models',\n",
       " 'error_xlsum_amr_test.json',\n",
       " 'AMRAugmenter.py',\n",
       " '__pycache__',\n",
       " 'requirements.txt',\n",
       " 'data_interface',\n",
       " 'amr_to_text_taufiq.py',\n",
       " 'gpu_monitor.py',\n",
       " '.git',\n",
       " 'gpu_monitor.log',\n",
       " 'amr_to_text_taufiq.ipynb',\n",
       " 'Create Dataset From Nafkan to AMR Fact.ipynb',\n",
       " '.gitignore',\n",
       " 'AMRFactGenerator.py',\n",
       " 'README.md',\n",
       " 'TextToAMR_sanVersion.ipynb',\n",
       " 'text_to_amr.py',\n",
       " 'model_interface',\n",
       " 'common',\n",
       " 'utils',\n",
       " 'xlsum.ipynb']"
      ]
     },
     "execution_count": 3,
     "metadata": {},
     "output_type": "execute_result"
    }
   ],
   "source": [
    "import os\n",
    "\n",
    "\n",
    "os.chdir(\"thesis\")\n",
    "os.listdir()"
   ]
  },
  {
   "cell_type": "code",
   "execution_count": null,
   "metadata": {},
   "outputs": [],
   "source": []
  }
 ],
 "metadata": {
  "kernelspec": {
   "display_name": "Python 3 (ipykernel)",
   "language": "python",
   "name": "python3"
  },
  "language_info": {
   "codemirror_mode": {
    "name": "ipython",
    "version": 3
   },
   "file_extension": ".py",
   "mimetype": "text/x-python",
   "name": "python",
   "nbconvert_exporter": "python",
   "pygments_lexer": "ipython3",
   "version": "3.10.14"
  }
 },
 "nbformat": 4,
 "nbformat_minor": 2
}
